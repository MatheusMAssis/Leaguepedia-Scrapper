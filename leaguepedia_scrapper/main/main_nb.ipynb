{
 "cells": [
  {
   "attachments": {},
   "cell_type": "markdown",
   "id": "79210673",
   "metadata": {},
   "source": [
    "# CBLOL Player Stats"
   ]
  },
  {
   "attachments": {},
   "cell_type": "markdown",
   "id": "2fc3c3d5",
   "metadata": {},
   "source": [
    "#### Importing libraries"
   ]
  },
  {
   "cell_type": "code",
   "execution_count": 79,
   "id": "43da954f",
   "metadata": {},
   "outputs": [],
   "source": [
    "import requests as re\n",
    "from bs4 import BeautifulSoup\n",
    "import pandas as pd"
   ]
  },
  {
   "attachments": {},
   "cell_type": "markdown",
   "id": "7598b95e",
   "metadata": {},
   "source": [
    "#### Path variables"
   ]
  },
  {
   "cell_type": "code",
   "execution_count": 80,
   "id": "23e95ca9",
   "metadata": {},
   "outputs": [],
   "source": [
    "URL = \"\"\"\n",
    "https://lol.fandom.com/wiki/Special:RunQuery\\\n",
    "/TournamentStatistics?TS%5Bpreload%5D=TournamentByPlayer&\\\n",
    "TS%5Btournament%5D={}&\\\n",
    "TS%5Blink%5D=&TS%5Bchampion%5D=&TS%5Brole%5D=&TS%5Bteam%5D=&TS%5Bpatch%5D=&TS%5Byear%5D=&TS%5Bregion%5D=&TS%5Btournamentlevel%5D=&TS%5Bwhere%5D=&TS%5Bincludelink%5D%5Bis_checkbox%5D=true&TS%5Bshownet%5D%5Bis_checkbox%5D=true&_run=&pfRunQueryFormName=TournamentStatistics&wpRunQuery=&pf_free_text=\\\n",
    "\"\"\"\n",
    "TOURNAMENTS = [\n",
    "    \"CBLOL%2F2014+Season%2FChampions+Series\", \n",
    "    \"CBLOL%2F2014+Season%2FRegional+Finals\",\n",
    "    \"CBLOL%2F2015+Season%2FSplit+1\", \n",
    "    \"CBLOL%2F2015+Season%2FSplit+1+Playoffs\",\n",
    "    \"CBLOL%2F2015+Season%2FSplit+2\", \n",
    "    \"CBLOL%2F2015+Season%2FSplit+2+Playoffs\", \n",
    "    \"CBLOL%2F2016+Season%2FSplit+1\", \n",
    "    \"CBLOL%2F2016+Season%2FSplit+1+Playoffs\",\n",
    "    \"CBLOL%2F2016+Season%2FSplit+2\", \n",
    "    \"CBLOL%2F2016+Season%2FSplit+2+Playoffs\", \n",
    "    \"CBLOL%2F2017+Season%2FSplit+1\", \n",
    "    \"CBLOL%2F2017+Season%2FSplit+1+Playoffs\",\n",
    "    \"CBLOL%2F2017+Season%2FSplit+2\", \n",
    "    \"CBLOL%2F2017+Season%2FSplit+2+Playoffs\",\n",
    "    \"CBLOL%2F2018+Season%2FSplit+1\", \n",
    "    \"CBLOL%2F2018+Season%2FSplit+1+Playoffs\",\n",
    "    \"CBLOL%2F2018+Season%2FSplit+2\", \n",
    "    \"CBLOL%2F2018+Season%2FSplit+2+Playoffs\", \n",
    "    \"CBLOL%2F2019+Season%2FSplit+1\", \n",
    "    \"CBLOL%2F2019+Season%2FSplit+1+Playoffs\",\n",
    "    \"CBLOL%2F2019+Season%2FSplit+2\", \n",
    "    \"CBLOL%2F2019+Season%2FSplit+2+Playoffs\", \n",
    "    \"CBLOL%2F2020+Season%2FSplit+1\", \n",
    "    \"CBLOL%2F2020+Season%2FSplit+1+Playoffs\",\n",
    "    \"CBLOL%2F2020+Season%2FSplit+2\", \n",
    "    \"CBLOL%2F2020+Season%2FSplit+2+Playoffs\",\n",
    "    \"CBLOL%2F2021+Season%2FSplit+1\", \n",
    "    \"CBLOL%2F2021+Season%2FSplit+1+Playoffs\",\n",
    "    \"CBLOL%2F2021+Season%2FSplit+2\", \n",
    "    \"CBLOL%2F2021+Season%2FSplit+2+Playoffs\",\n",
    "    \"CBLOL%2F2022+Season%2FSplit+1\", \n",
    "    \"CBLOL%2F2022+Season%2FSplit+1+Playoffs\",\n",
    "    \"CBLOL%2F2022+Season%2FSplit+2\", \n",
    "    \"CBLOL%2F2022+Season%2FSplit+2+Playoffs\",\n",
    "    \"CBLOL%2F2023+Season%2FSplit+1\", \n",
    "]"
   ]
  },
  {
   "attachments": {},
   "cell_type": "markdown",
   "id": "56880b06",
   "metadata": {},
   "source": [
    "#### Generating player stats"
   ]
  },
  {
   "cell_type": "code",
   "execution_count": 104,
   "id": "2d1c2da1",
   "metadata": {},
   "outputs": [],
   "source": [
    "def get_page_table(PATH, TOURNAMENT):\n",
    "    page_request = re.get(PATH.format(TOURNAMENT))\n",
    "    soup = BeautifulSoup(page_request.content, 'html.parser')\n",
    "    table = soup.find('table')\n",
    "    return table\n",
    "\n",
    "def fill_player_data(NAME, MP, WINS):\n",
    "    player_name = NAME.lower()\n",
    "    if player_name not in PLAYERS_STATS:\n",
    "        PLAYERS_STATS[player_name] = [\n",
    "            int(MP), \n",
    "            int(WINS)\n",
    "        ]\n",
    "    else:\n",
    "        PLAYERS_STATS[player_name] = [\n",
    "            PLAYERS_STATS[player_name][0] + int(MP), \n",
    "            PLAYERS_STATS[player_name][1] + int(WINS)\n",
    "        ]\n",
    "\n",
    "def get_cell_data_fill_player_data(ROW, ITH_ROW):\n",
    "    cell_data = []\n",
    "    for cell in ROW.find_all(\"td\"):\n",
    "        cell_data.append(cell.text)\n",
    "    if ITH_ROW > 5:\n",
    "        fill_player_data(cell_data[1], cell_data[2], cell_data[3])\n",
    "    \n",
    "def main():\n",
    "    for t in range(len(TOURNAMENTS)):\n",
    "        i = 0\n",
    "        TABLE = get_page_table(URL, TOURNAMENTS[t])\n",
    "        for result in TABLE:\n",
    "            for row in result.find_all(\"tr\"):\n",
    "                i += 1\n",
    "                get_cell_data_fill_player_data(row, i)\n",
    "\n",
    "\n",
    "PLAYERS_STATS = {}\n",
    "main()"
   ]
  },
  {
   "attachments": {},
   "cell_type": "markdown",
   "id": "8305a76d",
   "metadata": {},
   "source": [
    "#### Generating players dataframe "
   ]
  },
  {
   "cell_type": "code",
   "execution_count": 109,
   "id": "849f77d9",
   "metadata": {},
   "outputs": [],
   "source": [
    "df = pd.DataFrame(PLAYERS_STATS)\n",
    "\n",
    "players_df = df.transpose()\n",
    "players_df.columns = [\"MP\", \"W\"]\n",
    "players_df[\"WR\"] = round(players_df.W/players_df.MP, 4) * 100\n",
    "\n"
   ]
  },
  {
   "attachments": {},
   "cell_type": "markdown",
   "id": "aafafe07",
   "metadata": {},
   "source": [
    "#### Greater WR with at least N matches"
   ]
  },
  {
   "cell_type": "code",
   "execution_count": 111,
   "id": "326840ea",
   "metadata": {},
   "outputs": [
    {
     "data": {
      "text/html": [
       "<div>\n",
       "<style scoped>\n",
       "    .dataframe tbody tr th:only-of-type {\n",
       "        vertical-align: middle;\n",
       "    }\n",
       "\n",
       "    .dataframe tbody tr th {\n",
       "        vertical-align: top;\n",
       "    }\n",
       "\n",
       "    .dataframe thead th {\n",
       "        text-align: right;\n",
       "    }\n",
       "</style>\n",
       "<table border=\"1\" class=\"dataframe\">\n",
       "  <thead>\n",
       "    <tr style=\"text-align: right;\">\n",
       "      <th></th>\n",
       "      <th>MP</th>\n",
       "      <th>WR</th>\n",
       "    </tr>\n",
       "  </thead>\n",
       "  <tbody>\n",
       "    <tr>\n",
       "      <th>shrimp</th>\n",
       "      <td>85</td>\n",
       "      <td>75.29</td>\n",
       "    </tr>\n",
       "    <tr>\n",
       "      <th>luci</th>\n",
       "      <td>138</td>\n",
       "      <td>72.46</td>\n",
       "    </tr>\n",
       "    <tr>\n",
       "      <th>brtt</th>\n",
       "      <td>300</td>\n",
       "      <td>67.00</td>\n",
       "    </tr>\n",
       "    <tr>\n",
       "      <th>dioud</th>\n",
       "      <td>90</td>\n",
       "      <td>65.56</td>\n",
       "    </tr>\n",
       "    <tr>\n",
       "      <th>tockers</th>\n",
       "      <td>196</td>\n",
       "      <td>65.31</td>\n",
       "    </tr>\n",
       "  </tbody>\n",
       "</table>\n",
       "</div>"
      ],
      "text/plain": [
       "          MP     WR\n",
       "shrimp    85  75.29\n",
       "luci     138  72.46\n",
       "brtt     300  67.00\n",
       "dioud     90  65.56\n",
       "tockers  196  65.31"
      ]
     },
     "execution_count": 111,
     "metadata": {},
     "output_type": "execute_result"
    }
   ],
   "source": [
    "def player_winrate_df(MIN_MP, QTY_PLAYERS):\n",
    "    return players_df[players_df[\"MP\"] >= MIN_MP].sort_values(by=\"WR\", ascending=False)[[\"MP\", \"WR\"]].head(QTY_PLAYERS)\n",
    "\n",
    "player_winrate_df(50, 5)"
   ]
  },
  {
   "attachments": {},
   "cell_type": "markdown",
   "id": "508623c9",
   "metadata": {},
   "source": [
    "#### Greater MP"
   ]
  },
  {
   "cell_type": "code",
   "execution_count": 113,
   "id": "55bb8541",
   "metadata": {},
   "outputs": [
    {
     "data": {
      "text/html": [
       "<div>\n",
       "<style scoped>\n",
       "    .dataframe tbody tr th:only-of-type {\n",
       "        vertical-align: middle;\n",
       "    }\n",
       "\n",
       "    .dataframe tbody tr th {\n",
       "        vertical-align: top;\n",
       "    }\n",
       "\n",
       "    .dataframe thead th {\n",
       "        text-align: right;\n",
       "    }\n",
       "</style>\n",
       "<table border=\"1\" class=\"dataframe\">\n",
       "  <thead>\n",
       "    <tr style=\"text-align: right;\">\n",
       "      <th></th>\n",
       "      <th>MP</th>\n",
       "      <th>WR</th>\n",
       "    </tr>\n",
       "  </thead>\n",
       "  <tbody>\n",
       "    <tr>\n",
       "      <th>robo</th>\n",
       "      <td>371</td>\n",
       "      <td>63.88</td>\n",
       "    </tr>\n",
       "    <tr>\n",
       "      <th>micao</th>\n",
       "      <td>345</td>\n",
       "      <td>54.20</td>\n",
       "    </tr>\n",
       "    <tr>\n",
       "      <th>tinowns</th>\n",
       "      <td>323</td>\n",
       "      <td>54.18</td>\n",
       "    </tr>\n",
       "    <tr>\n",
       "      <th>brtt</th>\n",
       "      <td>300</td>\n",
       "      <td>67.00</td>\n",
       "    </tr>\n",
       "    <tr>\n",
       "      <th>redbert</th>\n",
       "      <td>287</td>\n",
       "      <td>54.01</td>\n",
       "    </tr>\n",
       "  </tbody>\n",
       "</table>\n",
       "</div>"
      ],
      "text/plain": [
       "          MP     WR\n",
       "robo     371  63.88\n",
       "micao    345  54.20\n",
       "tinowns  323  54.18\n",
       "brtt     300  67.00\n",
       "redbert  287  54.01"
      ]
     },
     "execution_count": 113,
     "metadata": {},
     "output_type": "execute_result"
    }
   ],
   "source": [
    "def player_matchesplayed_df(QTY_PLAYERS):\n",
    "    return players_df.sort_values(by=\"MP\", ascending=False)[[\"MP\", \"WR\"]].head(QTY_PLAYERS)\n",
    "\n",
    "player_matchesplayed_df(5)"
   ]
  }
 ],
 "metadata": {
  "kernelspec": {
   "display_name": "league",
   "language": "python",
   "name": "python3"
  },
  "language_info": {
   "codemirror_mode": {
    "name": "ipython",
    "version": 3
   },
   "file_extension": ".py",
   "mimetype": "text/x-python",
   "name": "python",
   "nbconvert_exporter": "python",
   "pygments_lexer": "ipython3",
   "version": "3.8.16"
  },
  "vscode": {
   "interpreter": {
    "hash": "bc937815e7fb23072f5207123aa7c7f63641a15b291956d5459d64a2e2230a7e"
   }
  }
 },
 "nbformat": 4,
 "nbformat_minor": 5
}
